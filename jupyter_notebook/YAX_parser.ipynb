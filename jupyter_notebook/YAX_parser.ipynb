{
 "cells": [
  {
   "cell_type": "markdown",
   "metadata": {},
   "source": [
    "# Content"
   ]
  },
  {
   "cell_type": "code",
   "execution_count": null,
   "metadata": {
    "collapsed": false
   },
   "outputs": [],
   "source": [
    "import sys\n",
    "sys.path.append('..')\n",
    "%load_ext autoreload\n",
    "%autoreload 2\n",
    "%load_ext memory_profiler"
   ]
  },
  {
   "cell_type": "code",
   "execution_count": 99,
   "metadata": {
    "collapsed": true
   },
   "outputs": [],
   "source": [
    "from test_toolbox import getParseTime\n",
    "from test_toolbox import getMemoryUsage\n",
    "from memory_profiler import memory_usage\n",
    "from main import parse\n",
    "import matplotlib.pyplot as plt\n",
    "import numpy as np\n",
    "\n",
    "# options for the ploting\n",
    "%matplotlib inline\n",
    "plt.rcParams['legend.fontsize']=15\n",
    "plt.rcParams['xtick.labelsize']=15\n",
    "plt.rcParams['ytick.labelsize']=15\n",
    "plt.rcParams['axes.labelsize']=15\n",
    "plt.rcParams['font.size'] = 15\n",
    "plt.rcParams['figure.figsize']=8, 6\n",
    "\n",
    "# for linear regression\n",
    "from sklearn.linear_model import LinearRegression"
   ]
  },
  {
   "cell_type": "markdown",
   "metadata": {},
   "source": [
    "# Implementation Analysis\n",
    "The goal of th project is to check the well-formedness of an XML file and its validity according to a DTD file. We have two options: either we implement is the DOM way or the SAX way. We choose to implement the DOM technique.\n",
    "\n",
    "First we check if the XML document has a tree stucture, it's the well-formedness. While doing that, we construct the tree of XML elements"
   ]
  },
  {
   "cell_type": "markdown",
   "metadata": {
    "collapsed": true
   },
   "source": [
    "![](Thompson_construction_rules.svg)"
   ]
  },
  {
   "cell_type": "markdown",
   "metadata": {},
   "source": [
    "# Experimental Evaluation\n",
    "In this section, we are going to test our XML parser on different cases:\n",
    "* test 1: valid XML and valid DTD\n",
    "* test 2: not well-formed XML\n",
    "* test 3: not valid DTD\n",
    "* test 4: well-formed but not valid XML and a valid DTD\n",
    "* test 5: time execution (in seconds) with regards to size of XML document (number of nodes)\n",
    "* test 6: memory consumption (in MB) with regards to size of XML document (number of nodes)\n"
   ]
  },
  {
   "cell_type": "markdown",
   "metadata": {},
   "source": [
    "## Test 1: valid XML and valid DTD\n",
    "the test is run using the files in **`test1`** folder. they contain the same XML and DTD as in the project sepecifications. The result should be : \"`well-formed`\" and \"`valid`\""
   ]
  },
  {
   "cell_type": "code",
   "execution_count": 42,
   "metadata": {
    "collapsed": false
   },
   "outputs": [
    {
     "name": "stdout",
     "output_type": "stream",
     "text": [
      "the DTD\n",
      "==========\n",
      "a (bc)*d\n",
      "b _\n",
      "c _\n",
      "d _\n",
      "==========\n",
      "the XML\n",
      "==========\n",
      "0 a\n",
      "0 b\n",
      "1 b\n",
      "0 c\n",
      "1 c\n",
      "0 d\n",
      "1 d\n",
      "1 a"
     ]
    }
   ],
   "source": [
    "print(\"the DTD\")\n",
    "print(\"==========\")\n",
    "%cat test1/valid_example.dtd\n",
    "print(\"\\n==========\")\n",
    "print(\"the XML\")\n",
    "print(\"==========\")\n",
    "%cat test1/valid_example.xml"
   ]
  },
  {
   "cell_type": "markdown",
   "metadata": {},
   "source": [
    "as you can see above, the XML and the DTD files are valid. Let's try to run our program on them"
   ]
  },
  {
   "cell_type": "code",
   "execution_count": 45,
   "metadata": {
    "collapsed": false
   },
   "outputs": [
    {
     "name": "stdout",
     "output_type": "stream",
     "text": [
      "well-formed\n",
      "valid\n"
     ]
    }
   ],
   "source": [
    " parse('test1/valid_example.xml', 'test1/valid_example.dtd')\n",
    "# the result is as expected"
   ]
  },
  {
   "cell_type": "markdown",
   "metadata": {},
   "source": [
    "## Test 2: not well formed XML\n",
    "the test is run using the files in folder **`test2`**. The DTD is the same on as in **Tests 1**. after executing the cell below, you can see that **`1 a`** (closing a) is missing. Thes execution should return \"**`not well-formed`**\" and \"**`not valid`**\"."
   ]
  },
  {
   "cell_type": "code",
   "execution_count": 47,
   "metadata": {
    "collapsed": false
   },
   "outputs": [
    {
     "name": "stdout",
     "output_type": "stream",
     "text": [
      "the XML\n",
      "==========\n",
      "0 a\r\n",
      "0 b\r\n",
      "1 b\r\n",
      "0 c\r\n",
      "1 c\r\n",
      "0 d\r\n",
      "1 d\r\n"
     ]
    }
   ],
   "source": [
    "print(\"the XML\")\n",
    "print(\"==========\")\n",
    "%cat test2/not_well_formed_example.xml"
   ]
  },
  {
   "cell_type": "code",
   "execution_count": 48,
   "metadata": {
    "collapsed": false
   },
   "outputs": [
    {
     "name": "stdout",
     "output_type": "stream",
     "text": [
      "not well-formed\n",
      "not valid\n"
     ]
    }
   ],
   "source": [
    "parse('test2/not_well_formed_example.xml', 'test2/valid_example.dtd')\n",
    "# the result is as expected"
   ]
  },
  {
   "cell_type": "markdown",
   "metadata": {},
   "source": [
    "## Test 3: not valid DTD\n",
    "the test is run using the files in folder **`test3`**. The XML is the same as the one in **Test 1** but the DTD contains an error with regard to the project's specifications. After executing the cell below, you can see that the regex for **`c`** contains an opening parenthesis without a corresponding one. The output should be an error pointing to the none validity of the DTD."
   ]
  },
  {
   "cell_type": "code",
   "execution_count": 49,
   "metadata": {
    "collapsed": false
   },
   "outputs": [
    {
     "name": "stdout",
     "output_type": "stream",
     "text": [
      "the DTD\n",
      "==========\n",
      "a (bc)*d\r\n",
      "b _\r\n",
      "c a()(?\r\n",
      "d _\r\n"
     ]
    }
   ],
   "source": [
    "print(\"the DTD\")\n",
    "print(\"==========\")\n",
    "%cat test3/not_valid_example.dtd"
   ]
  },
  {
   "cell_type": "code",
   "execution_count": 51,
   "metadata": {
    "collapsed": false
   },
   "outputs": [
    {
     "name": "stdout",
     "output_type": "stream",
     "text": [
      "well-formed\n",
      "ERROR 0: BAD DTD !\n"
     ]
    }
   ],
   "source": [
    "parse('test3/valid_example.xml', 'test3/not_valid_example.dtd')\n",
    "# the XML is still well formed but the validation of the XML is aborted because of the bad DTD."
   ]
  },
  {
   "cell_type": "markdown",
   "metadata": {},
   "source": [
    "## Test 4: well formed but not valid XML\n",
    "the files are in **`test4`** folder. This time the XML is not valid. we are still using the same DTD as in **Test 1**. Remark the **`d`** element, it has a totally new element **\"`e`\"**, it hasn't been defined in the DTD. The ouptut should be **\"`well-formed`\"** and **\"`not valid`\"**"
   ]
  },
  {
   "cell_type": "code",
   "execution_count": 52,
   "metadata": {
    "collapsed": false
   },
   "outputs": [
    {
     "name": "stdout",
     "output_type": "stream",
     "text": [
      "the XML\n",
      "==========\n",
      "0 a\r\n",
      "0 b\r\n",
      "1 b\r\n",
      "0 c\r\n",
      "1 c\r\n",
      "0 d\r\n",
      "0 e\r\n",
      "1 e\r\n",
      "1 d\r\n",
      "1 a\r\n"
     ]
    }
   ],
   "source": [
    "print(\"the XML\")\n",
    "print(\"==========\")\n",
    "%cat test4/not_valid_example.xml"
   ]
  },
  {
   "cell_type": "code",
   "execution_count": 54,
   "metadata": {
    "collapsed": false
   },
   "outputs": [
    {
     "name": "stdout",
     "output_type": "stream",
     "text": [
      "well-formed\n",
      "not valid\n"
     ]
    }
   ],
   "source": [
    "parse('test4/not_valid_example.xml', 'test4/valid_example.dtd')\n",
    "# the result is as expected"
   ]
  },
  {
   "cell_type": "markdown",
   "metadata": {},
   "source": [
    "## Test 5: Time execution with regards to the size of the XML\n",
    "In this test we are going to generate XML files that comply to **`test5_6/exam.dtd`** file. The DTD is outputed below. It's inspired by the XML file of the exam, we modified it to make the genration of the automatons more \"difficult\".\n",
    "\n",
    "The generated XML files have a specified number of nodes, it's done by always generating the same **`p`** element wich contains 10 elements (including itself). So, if we generate a file with 1000 **`p`** elements we and up with a document containg 10001 elements, the plus **1** is for the root element. For more details on the generation to the XML files have a look at **`test_toolbox.generate_exam_xml_file`** function.\n",
    "\n",
    "To compute the amount of time used to validate each XML file, we are using **`timeit`** function which is part of the standard python library. In order to have a **robust measurment of the execution time** the validation will be rapeated **`number`** times. Otherwise a single measurment can be skewed by other processes in the system.\n"
   ]
  },
  {
   "cell_type": "code",
   "execution_count": 56,
   "metadata": {
    "collapsed": false
   },
   "outputs": [
    {
     "name": "stdout",
     "output_type": "stream",
     "text": [
      "the DTD\n",
      "==========\n",
      "d p*\r\n",
      "p nsl+\r\n",
      "n f?g\r\n",
      "l rco?a\r\n",
      "s _\r\n",
      "r _\r\n",
      "c _\r\n",
      "o _\r\n",
      "f _\r\n",
      "g _\r\n",
      "a _\r\n"
     ]
    }
   ],
   "source": [
    "print(\"the DTD\")\n",
    "print(\"==========\")\n",
    "%cat test5_6/exam.dtd"
   ]
  },
  {
   "cell_type": "markdown",
   "metadata": {},
   "source": [
    "### Generation of the XML files\n",
    "The XML files will be saved in **`test5_6`** folder. 200 files will be generated, the first one will contain **1001 nodes** the last one will contain **200 001 nodes**. make sure you have enough space before runing the line below."
   ]
  },
  {
   "cell_type": "code",
   "execution_count": 74,
   "metadata": {
    "collapsed": true
   },
   "outputs": [],
   "source": [
    "from test_toolbox import generate_exam_xml_file\n",
    "# the directory to put the files to\n",
    "dir_path = 'test5_6'\n",
    "min_nodes = 1000\n",
    "nb_files = 200\n",
    "for i in range(nb_files):\n",
    "    generate_exam_xml_file(min_nodes * (i+1), dir_path)"
   ]
  },
  {
   "cell_type": "code",
   "execution_count": 75,
   "metadata": {
    "collapsed": false
   },
   "outputs": [
    {
     "name": "stdout",
     "output_type": "stream",
     "text": [
      "test5_6/100001_nodes.xml\r\n",
      "test5_6/10001_nodes.xml\r\n",
      "test5_6/1001_nodes.xml\r\n",
      "test5_6/101001_nodes.xml\r\n",
      "test5_6/102001_nodes.xml\r\n",
      "test5_6/103001_nodes.xml\r\n",
      "test5_6/104001_nodes.xml\r\n",
      "test5_6/105001_nodes.xml\r\n",
      "test5_6/106001_nodes.xml\r\n",
      "test5_6/107001_nodes.xml\r\n"
     ]
    }
   ],
   "source": [
    "# check the creation of the files (just the 10 first ones)\n",
    "% ls test5_6/*_nodes.xml | head"
   ]
  },
  {
   "cell_type": "markdown",
   "metadata": {},
   "source": [
    "### Measuring the execution time \n",
    "below, we are going to validate each file and record the execution time. After that we will plot the results"
   ]
  },
  {
   "cell_type": "code",
   "execution_count": 76,
   "metadata": {
    "collapsed": false
   },
   "outputs": [],
   "source": [
    "# list all the files \n",
    "file_paths = []\n",
    "file_sizes = []\n",
    "for i in range(nb_files):\n",
    "    file_size = min_nodes * (i + 1) + 1 # the plus one is for the root element\n",
    "    file_path = dir_path +\"/\"+ str(file_size)+\"_nodes.xml\"\n",
    "    file_sizes.append(file_size)\n",
    "    file_paths.append(file_path)"
   ]
  },
  {
   "cell_type": "markdown",
   "metadata": {},
   "source": [
    "we will now validate each file. **`number`** is set to **`1`** (it's taking a lot of time to execute), but we should put a higher value in order to get more robust measurments."
   ]
  },
  {
   "cell_type": "code",
   "execution_count": null,
   "metadata": {
    "collapsed": false,
    "scrolled": true
   },
   "outputs": [],
   "source": [
    "# validate each XML and record the execution time \n",
    "dtd_path = dir_path + '/exam.dtd'\n",
    "execution_times = []\n",
    "for file_path in file_paths:\n",
    "    execution_time = getParseTime(file_path, dtd_path, number=1) # take the average execution time\n",
    "    execution_times.append(execution_time)"
   ]
  },
  {
   "cell_type": "markdown",
   "metadata": {},
   "source": [
    "below is the ploting : execution time with regards to number of nodes"
   ]
  },
  {
   "cell_type": "code",
   "execution_count": 97,
   "metadata": {
    "collapsed": false
   },
   "outputs": [
    {
     "data": {
      "text/plain": [
       "<matplotlib.collections.PathCollection at 0x7fb7b5aa2c50>"
      ]
     },
     "execution_count": 97,
     "metadata": {},
     "output_type": "execute_result"
    },
    {
     "data": {
      "image/png": "[encoded data removed]",
      "text/plain": [
       "<matplotlib.figure.Figure at 0x7fb7b7ee27f0>"
      ]
     },
     "metadata": {},
     "output_type": "display_data"
    }
   ],
   "source": [
    "# in the x axis we have the number of kilo nodes (1000 nodes)\n",
    "# in the y axis we have the execution time in seconds\n",
    "x = np.array(file_sizes) / 1000\n",
    "y = execution_times\n",
    "x_label = \"number of nodes (K nodes)\"\n",
    "y_label = \"execution time (seconds)\"\n",
    "plot_title = \"execution time with regards to the number of nodes\"\n",
    "\n",
    "plt.xlabel(x_label)\n",
    "plt.ylabel(y_label)\n",
    "plt.title(plot_title)\n",
    "\n",
    "# show the plot \n",
    "plt.scatter(x,y) "
   ]
  },
  {
   "cell_type": "markdown",
   "metadata": {},
   "source": [
    "according to the above plot, we see that the execution time is a linear function of the number of the nodes. Let's do a linear regression to check the slope and the intercept."
   ]
  },
  {
   "cell_type": "code",
   "execution_count": 104,
   "metadata": {
    "collapsed": false
   },
   "outputs": [
    {
     "name": "stdout",
     "output_type": "stream",
     "text": [
      "the function is y = 0.0258667170784 * x + 0.258296086998\n"
     ]
    }
   ],
   "source": [
    "linear_regression = LinearRegression().fit(np.vstack(x), y)\n",
    "slope = linear_regression.coef_[0]\n",
    "intercept = linear_regression.intercept_\n",
    "print(\"the function is y = \"+str(slope)+\" * x + \"+str(intercept))"
   ]
  },
  {
   "cell_type": "markdown",
   "metadata": {},
   "source": [
    "the function and the measures are plotted below"
   ]
  },
  {
   "cell_type": "code",
   "execution_count": 111,
   "metadata": {
    "collapsed": false
   },
   "outputs": [
    {
     "data": {
      "text/plain": [
       "<matplotlib.collections.PathCollection at 0x7fb7a7b93668>"
      ]
     },
     "execution_count": 111,
     "metadata": {},
     "output_type": "execute_result"
    },
    {
     "data": {
      "image/png": "[encoded data removed]",
      "text/plain": [
       "<matplotlib.figure.Figure at 0x7fb7b5ab09e8>"
      ]
     },
     "metadata": {},
     "output_type": "display_data"
    }
   ],
   "source": [
    "y_predicted = linear_regression.predict(np.vstack(x))\n",
    "plt.xlabel(x_label)\n",
    "plt.ylabel(y_label)\n",
    "plt.title(plot_title)\n",
    "plt.scatter(x,y)\n",
    "plt.scatter(x,y_predicted,c='r', marker='.')"
   ]
  },
  {
   "cell_type": "markdown",
   "metadata": {},
   "source": [
    "the diverging points from the line are outliers. It's is probably due to the fact that the xml validation is done only once for eache file (so no averaging). So, the execution time is sensitive to other processes execution in the system while validating the XML.\n",
    "\n",
    "**YAX Parser** is doing good according to the linear relation between the execution time and the size of the document."
   ]
  },
  {
   "cell_type": "markdown",
   "metadata": {},
   "source": [
    "## Test 6: Memory consumption with regards to the size of the XML\n",
    "In this test, the memory consumption (in MB) will be evaluated using the **`memory_profiler`** module. The memory consumption assessment is implemented in **`test_toolbox.getMemoryUsage`**. Behind the scenes, our function is using **`memory_profiler.memory_usage`**. The documentation for **`memory_usage`** is saying that the memory consumption is taken every **`interval`** seconds (which is by default 0.1 seconds), we average the measures in order to have only one value.\n",
    "\n",
    "the same files used in **Test 5** are going to be used in this test."
   ]
  },
  {
   "cell_type": "code",
   "execution_count": null,
   "metadata": {
    "collapsed": false,
    "scrolled": true
   },
   "outputs": [],
   "source": [
    "# validate each XML and record the average amount of memory taken\n",
    "# we still have the same dtd file and thes same XML files\n",
    "\n",
    "memory_measures = []\n",
    "for file_path in file_paths:\n",
    "    memory_measure = getMemoryUsage(file_path, dtd_path)\n",
    "    memory_measures.append(memory_measure)"
   ]
  },
  {
   "cell_type": "markdown",
   "metadata": {},
   "source": [
    "below the ploting : amount of memory with regards to number of nodes"
   ]
  },
  {
   "cell_type": "code",
   "execution_count": 152,
   "metadata": {
    "collapsed": false
   },
   "outputs": [
    {
     "data": {
      "text/plain": [
       "<matplotlib.collections.PathCollection at 0x7fb7a40b3e10>"
      ]
     },
     "execution_count": 152,
     "metadata": {},
     "output_type": "execute_result"
    },
    {
     "data": {
      "image/png": "[encoded data removed]",
      "text/plain": [
       "<matplotlib.figure.Figure at 0x7fb7b0953828>"
      ]
     },
     "metadata": {},
     "output_type": "display_data"
    }
   ],
   "source": [
    "# in the x axis we have the number of kilo nodes (1000 nodes)\n",
    "# in the y axis we have the amount (in MB) of memory consumed\n",
    "x1 = np.array(file_sizes) / 1000\n",
    "y1 = np.array(memory_measures)\n",
    "x_label1 = \"number of nodes (K nodes)\"\n",
    "y_label1 = \"memory consumed (MB)\"\n",
    "plot_title1 = \"memory consumption with regards to the number of nodes\"\n",
    "\n",
    "plt.xlabel(x_label1)\n",
    "plt.ylabel(y_label1)\n",
    "plt.title(plot_title1)\n",
    "\n",
    "# show the plot \n",
    "plt.scatter(x1,y1) "
   ]
  },
  {
   "cell_type": "markdown",
   "metadata": {},
   "source": [
    "According to the above plot the memory consumption is logarithmique. Let's find out the min and the max values"
   ]
  },
  {
   "cell_type": "code",
   "execution_count": 144,
   "metadata": {
    "collapsed": false
   },
   "outputs": [
    {
     "name": "stdout",
     "output_type": "stream",
     "text": [
      "the file containing 4001.0 nodes has consumed the least amount of memory, 816.159375 MB\n",
      "the file containing 193001.0 nodes has consumed the greatest amount of memory, 921.335053066 MB\n"
     ]
    }
   ],
   "source": [
    "# the minimum memory consumption\n",
    "y1_min = np.min(y1)\n",
    "x1_min = x1[y1== y1_min][0]\n",
    "\n",
    "# the maximum memory consumptoin\n",
    "y1_max = np.max(y1)\n",
    "x1_max = x1[y1 == y1_max][0]\n",
    "\n",
    "print(\"the file containing \"+str(x1_min *1000)+ \" nodes has consumed the least amount of memory, \"+str(y1_min)+\" MB\")\n",
    "print(\"the file containing \"+str(x1_max * 1000)+\" nodes has consumed the greatest amount of memory, \"+ str(y1_max)+\" MB\")"
   ]
  },
  {
   "cell_type": "markdown",
   "metadata": {},
   "source": [
    "clearly the memory consumption is skewed by the activity of other processes (one of them being jupyter notebook). But, it's interesting to see that among the 200 files, the difference between the greatest and the least memory consumption is around 105 MB, especialy when you know that **`x1_max`** is 48 times bigger than **`x1_min`**. This and the shape of the plot let us suggest that there is an upper bound in the memory consumption. Let us investigate this ...\n",
    "\n",
    "We have an intuition that the **`log`** of the size is a linear function of the amount of memory consumed. To check this, we are going to plot **`log(x1)`** with regards to **`y1`** and then do a linear regression."
   ]
  },
  {
   "cell_type": "code",
   "execution_count": 155,
   "metadata": {
    "collapsed": false
   },
   "outputs": [
    {
     "data": {
      "text/plain": [
       "[<matplotlib.lines.Line2D at 0x7fb7b471dc88>]"
      ]
     },
     "execution_count": 155,
     "metadata": {},
     "output_type": "execute_result"
    },
    {
     "data": {
      "image/png": "[encoded data removed]",
      "text/plain": [
       "<matplotlib.figure.Figure at 0x7fb7b00abe48>"
      ]
     },
     "metadata": {},
     "output_type": "display_data"
    }
   ],
   "source": [
    "# computing the log of x1\n",
    "log_x1 = np.log(x1)\n",
    "# do the linear regression\n",
    "linear_regression1 = LinearRegression().fit(np.vstack(log_x1),y1)\n",
    "predicted_y1 = linear_regression1.predict(np.vstack(log_x1))\n",
    "\n",
    "plt.xlabel(\"log(n), n : the size of the document (K nodes)\")\n",
    "plt.ylabel(\"memory consumed (MB)\")\n",
    "plt.title(\"linear dependency between log(n) and amount of memory\")\n",
    "plt.plot(log_x1,y1)\n",
    "plt.plot(log_x1, predicted_y1, c='r')"
   ]
  },
  {
   "cell_type": "markdown",
   "metadata": {},
   "source": [
    "**Gustav Flaubert said: \" The more you approach infinity, the deeper you penetrate terror\"**. I don't know if it's terror but in our case, the infinity begins to become interesting after **`x = 3`**, which  roughly corresponds to **`n = 20 000 nodes`**. The linearity between **y** (the memory consumption) and **log(n)** (the log number of nodes) is becoming clearer after that point.\n",
    "\n",
    "The behavior of the function and its closness with the regression line around the infinite is making us confident about the linear realtion between **log(n)** and **y**."
   ]
  },
  {
   "cell_type": "code",
   "execution_count": null,
   "metadata": {
    "collapsed": true
   },
   "outputs": [],
   "source": []
  },
  {
   "cell_type": "code",
   "execution_count": 34,
   "metadata": {
    "collapsed": false
   },
   "outputs": [
    {
     "name": "stdout",
     "output_type": "stream",
     "text": [
      "\n"
     ]
    }
   ],
   "source": [
    "%mprun -c -f parse parse('../example.xml','../example.dtd', verbose=False)"
   ]
  },
  {
   "cell_type": "code",
   "execution_count": 28,
   "metadata": {
    "collapsed": false
   },
   "outputs": [
    {
     "name": "stdout",
     "output_type": "stream",
     "text": [
      "peak memory: 64.27 MiB, increment: 0.00 MiB\n"
     ]
    }
   ],
   "source": [
    "%memit parse('../example.xml','../example.dtd', verbose=False)"
   ]
  },
  {
   "cell_type": "markdown",
   "metadata": {},
   "source": [
    "# Test on one file"
   ]
  },
  {
   "cell_type": "code",
   "execution_count": null,
   "metadata": {
    "collapsed": true
   },
   "outputs": [],
   "source": []
  }
 ],
 "metadata": {
  "anaconda-cloud": {},
  "kernelspec": {
   "display_name": "Python [conda env:web_data_models_env]",
   "language": "python",
   "name": "conda-env-web_data_models_env-py"
  },
  "language_info": {
   "codemirror_mode": {
    "name": "ipython",
    "version": 3
   },
   "file_extension": ".py",
   "mimetype": "text/x-python",
   "name": "python",
   "nbconvert_exporter": "python",
   "pygments_lexer": "ipython3",
   "version": "3.5.2"
  }
 },
 "nbformat": 4,
 "nbformat_minor": 1
}
